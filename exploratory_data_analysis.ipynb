{
  "nbformat": 4,
  "nbformat_minor": 0,
  "metadata": {
    "colab": {
      "private_outputs": true,
      "provenance": [],
      "authorship_tag": "ABX9TyMp0cMYOMoRQ6dF0zGGNfus",
      "include_colab_link": true
    },
    "kernelspec": {
      "name": "python3",
      "display_name": "Python 3"
    },
    "language_info": {
      "name": "python"
    }
  },
  "cells": [
    {
      "cell_type": "markdown",
      "metadata": {
        "id": "view-in-github",
        "colab_type": "text"
      },
      "source": [
        "<a href=\"https://colab.research.google.com/github/shivanjali1809/DAtask5/blob/main/exploratory_data_analysis.ipynb\" target=\"_parent\"><img src=\"https://colab.research.google.com/assets/colab-badge.svg\" alt=\"Open In Colab\"/></a>"
      ]
    },
    {
      "cell_type": "markdown",
      "source": [
        "import all the libraries"
      ],
      "metadata": {
        "id": "kPiMba6bUV7X"
      }
    },
    {
      "cell_type": "code",
      "execution_count": null,
      "metadata": {
        "id": "X34RY4qJT7EB"
      },
      "outputs": [],
      "source": [
        "import pandas as pd\n",
        "import numpy as np\n",
        "import seaborn as sns\n",
        "import matplotlib.pyplot as plt"
      ]
    },
    {
      "cell_type": "markdown",
      "source": [
        "read the data ssets\n"
      ],
      "metadata": {
        "id": "af6Li-IzUrTH"
      }
    },
    {
      "cell_type": "code",
      "source": [
        "data = pd.read_csv('/content/sample_data/mnist_test.csv')\n",
        "data.head()\n"
      ],
      "metadata": {
        "id": "3MjWJ3gMUf0B"
      },
      "execution_count": null,
      "outputs": []
    },
    {
      "cell_type": "code",
      "source": [
        "from google.colab import drive\n",
        "drive.mount('/content/drive')"
      ],
      "metadata": {
        "id": "Yw1WeKBuYKU8"
      },
      "execution_count": null,
      "outputs": []
    },
    {
      "cell_type": "code",
      "source": [
        "data = pd.read_csv('/gender_submission.csv')\n",
        "data.head()"
      ],
      "metadata": {
        "id": "aMFNQrVrYmtr"
      },
      "execution_count": null,
      "outputs": []
    },
    {
      "cell_type": "code",
      "source": [
        "data.shape"
      ],
      "metadata": {
        "id": "eGaZS69IYwd9"
      },
      "execution_count": null,
      "outputs": []
    },
    {
      "cell_type": "code",
      "source": [
        "data.columns"
      ],
      "metadata": {
        "id": "3LBmCwtBZJt_"
      },
      "execution_count": null,
      "outputs": []
    },
    {
      "cell_type": "code",
      "source": [
        "data.dtypes"
      ],
      "metadata": {
        "id": "Qz3enV41ZOy4"
      },
      "execution_count": null,
      "outputs": []
    },
    {
      "cell_type": "code",
      "source": [
        "data.describe()"
      ],
      "metadata": {
        "id": "NNmYLejAZWIG"
      },
      "execution_count": null,
      "outputs": []
    },
    {
      "cell_type": "markdown",
      "source": [
        "number of null valuues in any of the column"
      ],
      "metadata": {
        "id": "2kMYQ8CsaMY5"
      }
    },
    {
      "cell_type": "code",
      "source": [
        "data.isnull().sum()"
      ],
      "metadata": {
        "id": "u2U2gZoCZgL-"
      },
      "execution_count": null,
      "outputs": []
    },
    {
      "cell_type": "code",
      "source": [
        "data.head(50)"
      ],
      "metadata": {
        "id": "mD8khQiYZ7gA"
      },
      "execution_count": null,
      "outputs": []
    },
    {
      "cell_type": "code",
      "source": [
        "fig, ax = plt.subplots(figsize=(20, 20))\n",
        "sns.boxplot(data = data, ax=ax)\n",
        "plt.savefig(\"BoxPlot.png\")"
      ],
      "metadata": {
        "id": "9JXkhRDkajKe"
      },
      "execution_count": null,
      "outputs": []
    },
    {
      "cell_type": "code",
      "source": [
        "q = data['Survived'].quantile(0.99)\n",
        "newDdata = data[data['Survived'] < q ]\n",
        "fig,ax = plt.subplots(figsize=(20,20))\n",
        "sns.boxplot(data=newData, ax=ax)"
      ],
      "metadata": {
        "id": "pBPGt7qHb3Wq"
      },
      "execution_count": null,
      "outputs": []
    },
    {
      "cell_type": "markdown",
      "source": [
        "Correlation heatmap"
      ],
      "metadata": {
        "id": "KEM3qg6OU2G5"
      }
    },
    {
      "cell_type": "code",
      "source": [
        "plt.figure(figsize=(10,10))\n",
        "ax = sns.heatmap(data.corr(), annot=True)\n",
        "plt.show()"
      ],
      "metadata": {
        "id": "q4N0H-_hTOPC"
      },
      "execution_count": null,
      "outputs": []
    },
    {
      "cell_type": "code",
      "source": [
        "sns.distplot(data.PassengerId)"
      ],
      "metadata": {
        "id": "uN1f5sJ_VEZG"
      },
      "execution_count": null,
      "outputs": []
    },
    {
      "cell_type": "markdown",
      "source": [
        "Classification Task : to check whether the data is balanced or not"
      ],
      "metadata": {
        "id": "kMvM6mIDWg9X"
      }
    },
    {
      "cell_type": "code",
      "source": [
        "data.value_counts()\n"
      ],
      "metadata": {
        "id": "m8LnahvIWNUx"
      },
      "execution_count": null,
      "outputs": []
    },
    {
      "cell_type": "code",
      "source": [
        "print(dir())"
      ],
      "metadata": {
        "id": "6-PTDN0oaEoy"
      },
      "execution_count": null,
      "outputs": []
    },
    {
      "cell_type": "code",
      "source": [
        "print(data.columns)\n",
        "print(newDdata.columns)"
      ],
      "metadata": {
        "id": "hNaGj1_cR_nf"
      },
      "execution_count": null,
      "outputs": []
    },
    {
      "cell_type": "code",
      "source": [
        "newDdata.Survived.value_counts()"
      ],
      "metadata": {
        "id": "kEReVZcSSkSQ"
      },
      "execution_count": null,
      "outputs": []
    },
    {
      "cell_type": "code",
      "source": [
        "print(newDdata.columns.tolist())"
      ],
      "metadata": {
        "id": "BrsWr0TWTjKi"
      },
      "execution_count": null,
      "outputs": []
    },
    {
      "cell_type": "code",
      "source": [
        "newDdata.Survived.value_counts(normalize=True)"
      ],
      "metadata": {
        "id": "NWKDS_uTUro4"
      },
      "execution_count": null,
      "outputs": []
    },
    {
      "cell_type": "code",
      "source": [
        "newDdata.PassengerId.value_counts()"
      ],
      "metadata": {
        "id": "T7i4m7i1VqK_"
      },
      "execution_count": null,
      "outputs": []
    },
    {
      "cell_type": "markdown",
      "source": [
        "To resolve the above issues the techniques are given below\n",
        "*Undersampling\n",
        "*oversampling"
      ],
      "metadata": {
        "id": "DwL90eRjV-P0"
      }
    },
    {
      "cell_type": "code",
      "source": [
        "#newDdata['Survived'] = newDdata['Survived'].replace(0, newDdata['Survived'].median())"
      ],
      "metadata": {
        "id": "y3lXJEDNVzI3"
      },
      "execution_count": null,
      "outputs": []
    },
    {
      "cell_type": "code",
      "source": [],
      "metadata": {
        "id": "0Y9cZy2bW24v"
      },
      "execution_count": null,
      "outputs": []
    }
  ]
}